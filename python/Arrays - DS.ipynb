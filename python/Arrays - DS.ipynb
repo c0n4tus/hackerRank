{
 "cells": [
  {
   "cell_type": "code",
   "execution_count": 6,
   "metadata": {},
   "outputs": [
    {
     "name": "stdout",
     "output_type": "stream",
     "text": [
      "Enter number :12345\n",
      "5 4 3 2 1\n"
     ]
    }
   ],
   "source": [
    "# Complete the reverseArray function below.\n",
    "def reverseArray(a):\n",
    "    return a[::-1]\n",
    "\n",
    "if __name__ == '__main__':\n",
    "    \n",
    "    arr = input (\"Enter number :\") \n",
    "    res = reverseArray(arr)\n",
    "    print(' '.join(map(str,res)))\n",
    "\n"
   ]
  },
  {
   "cell_type": "code",
   "execution_count": null,
   "metadata": {},
   "outputs": [],
   "source": []
  }
 ],
 "metadata": {
  "kernelspec": {
   "display_name": "Python 3",
   "language": "python",
   "name": "python3"
  },
  "language_info": {
   "codemirror_mode": {
    "name": "ipython",
    "version": 3
   },
   "file_extension": ".py",
   "mimetype": "text/x-python",
   "name": "python",
   "nbconvert_exporter": "python",
   "pygments_lexer": "ipython3",
   "version": "3.7.3"
  }
 },
 "nbformat": 4,
 "nbformat_minor": 2
}
