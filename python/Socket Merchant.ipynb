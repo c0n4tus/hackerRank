{
 "cells": [
  {
   "cell_type": "code",
   "execution_count": 40,
   "metadata": {},
   "outputs": [
    {
     "name": "stdout",
     "output_type": "stream",
     "text": [
      "3\n",
      "\n"
     ]
    }
   ],
   "source": [
    "# Complete the sockMerchant function below.\n",
    "def sockMerchant(ar):\n",
    "    dic={}\n",
    "    for i in ar:\n",
    "        if dic.get(i) == None:\n",
    "            dic[i]=1\n",
    "        else:\n",
    "            dic[i]=dic.get(i)+1\n",
    "    counter=0\n",
    "    for k,v in dic.items():\n",
    "        counter=counter+(int)(v/2)\n",
    "    return counter        \n",
    "\n",
    "\n",
    "if __name__ == '__main__':\n",
    "   \n",
    "    ar = [10, 20, 20, 10, 10, 30, 50, 10, 20]\n",
    "\n",
    "    result = sockMerchant(ar)\n",
    "\n",
    "    print(str(result) + '\\n')\n"
   ]
  },
  {
   "cell_type": "code",
   "execution_count": null,
   "metadata": {},
   "outputs": [],
   "source": []
  }
 ],
 "metadata": {
  "kernelspec": {
   "display_name": "Python 3",
   "language": "python",
   "name": "python3"
  },
  "language_info": {
   "codemirror_mode": {
    "name": "ipython",
    "version": 3
   },
   "file_extension": ".py",
   "mimetype": "text/x-python",
   "name": "python",
   "nbconvert_exporter": "python",
   "pygments_lexer": "ipython3",
   "version": "3.7.3"
  }
 },
 "nbformat": 4,
 "nbformat_minor": 2
}
